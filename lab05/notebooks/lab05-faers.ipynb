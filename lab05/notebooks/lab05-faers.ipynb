{
 "cells": [
  {
   "cell_type": "code",
   "execution_count": 1,
   "metadata": {},
   "outputs": [],
   "source": [
    "%defaultDatasource jdbc:h2:mem:db"
   ]
  },
  {
   "cell_type": "code",
   "execution_count": 2,
   "metadata": {},
   "outputs": [],
   "source": [
    "DROP TABLE IF EXISTS Drug;\n",
    "DROP TABLE IF EXISTS Pathology;\n",
    "DROP TABLE IF EXISTS DrugUse;\n",
    "\n",
    "CREATE TABLE Drug (\n",
    "  code INT NOT NULL,\n",
    "  name VARCHAR(200) NOT NULL,\n",
    "  PRIMARY KEY(code)\n",
    ") AS SELECT\n",
    "    code,\n",
    "    name\n",
    "FROM CSVREAD('../data/drug.csv');\n",
    "\n",
    "CREATE TABLE Pathology (\n",
    "  code INT NOT NULL,\n",
    "  name VARCHAR(200) NOT NULL,\n",
    "  PRIMARY KEY(code)\n",
    ") AS SELECT\n",
    "    code,\n",
    "    name\n",
    "FROM CSVREAD('../data/pathology.csv');\n",
    "\n",
    "CREATE TABLE DrugUse (\n",
    "  idPerson INT NOT NULL,\n",
    "  codePathology INT NOT NULL,\n",
    "  codeDrug INT NOT NULL,\n",
    "  FOREIGN KEY(codePathology)\n",
    "    REFERENCES Pathology(code)\n",
    "      ON DELETE NO ACTION\n",
    "      ON UPDATE NO ACTION,\n",
    "  FOREIGN KEY(codeDrug)\n",
    "    REFERENCES Drug(code)\n",
    "      ON DELETE NO ACTION\n",
    "      ON UPDATE NO ACTION,\n",
    ") AS SELECT\n",
    "    idPerson,\n",
    "    codePathology,\n",
    "    codeDrug\n",
    "FROM CSVREAD('../data/drug-use.csv');\n",
    "\n",
    "CREATE TABLE SideEffect(\n",
    "  idPerson INT NOT NULL,\n",
    "  codePathology INT NOT NULL,\n",
    "  FOREIGN KEY(codePathology)\n",
    "    REFERENCES Pathology(code)\n",
    "      ON DELETE NO ACTION\n",
    "      ON UPDATE NO ACTION\n",
    ") AS SELECT idPerson, codePathology\n",
    "FROM CSVREAD('../data/sideeffect.csv');"
   ]
  },
  {
   "cell_type": "code",
   "execution_count": 3,
   "metadata": {},
   "outputs": [
    {
     "data": {
      "application/vnd.jupyter.widget-view+json": {
       "model_id": "7d4e68ba-af75-4ad3-aa3d-080202545776",
       "version_major": 2,
       "version_minor": 0
      },
      "method": "display_data"
     },
     "metadata": {},
     "output_type": "display_data"
    }
   ],
   "source": [
    "-- SELECT * FROM Drug;\n",
    "-- SELECT * FROM Pathology;\n",
    "-- SELECT * FROM DrugUse;\n",
    "SELECT * FROM SideEffect;"
   ]
  },
  {
   "cell_type": "markdown",
   "metadata": {},
   "source": [
    "# FDA Adverse Event Reporting System (FAERS)\n",
    "\n",
    "Considere a base de dados que reúne relatos de efeitos adversos de drogas: [FDA Adverse Event Reporting System (FAERS)](https://open.fda.gov/data/faers/).\n",
    "\n",
    "As fontes de dados são publicadas e documentadas em: [Latest Quarterly Data Files](https://www.fda.gov/drugs/fda-adverse-event-reporting-system-faers/fda-adverse-event-reporting-system-faers-latest-quarterly-data-files)"
   ]
  },
  {
   "cell_type": "markdown",
   "metadata": {},
   "source": [
    "# Interação entre medicamentos\n",
    "Considere como uma interação toda vez que um medicamento A é tomado em conjunto com um medicamento B por uma pessoa. Crie uma consulta que retorne para cada par de medicamento A,B o número de interações, somente para aqueles medicamentos que são tomados em conjunto mais de 30 vezes (passaremos a chamar de **grupo mais 30**)."
   ]
  },
  {
   "cell_type": "code",
   "execution_count": null,
   "metadata": {},
   "outputs": [
    {
     "ename": "java.sql.SQLException",
     "evalue": " ",
     "output_type": "error",
     "traceback": [
      "\u001b[1;31mjava.sql.SQLException: \u001b[0;0m"
     ]
    }
   ],
   "source": [
    "DROP VIEW interaction30mais IF EXISTS;\n",
    "DROP VIEW interaction IF EXISTS;\n",
    "\n",
    "CREATE VIEW interaction AS\n",
    "SELECT A.codeDrug as drugA, b.codeDrug as drugB\n",
    "FROM drugUse AS A, drugUse AS B\n",
    "WHERE A.idPerson = B.idPerson and A.codeDrug < B.codeDrug;\n",
    "SELECT * from interaction;\n",
    "\n",
    "CREATE VIEW interaction30mais AS\n",
    "SELECT drugA, drugB, count(*) weight\n",
    "from interaction\n",
    "group by drugA,drugB\n",
    "having weight>30;\n",
    "\n",
    "SELECT * from interaction30mais;"
   ]
  },
  {
   "cell_type": "markdown",
   "metadata": {},
   "source": [
    "## Tabela Resultante\n",
    "\n",
    "Se estiver demorando muito para gerar a tabela, você poderá usar a seguinte tabela resultante pronta. Essa tabela tem todas as interações, você ainda precisará filtrar o **grupo mais 30**."
   ]
  },
  {
   "cell_type": "code",
   "execution_count": 4,
   "metadata": {},
   "outputs": [],
   "source": [
    "DROP TABLE DrugInteraction IF EXISTS;\n",
    "CREATE TABLE DrugInteraction (\n",
    "  druga INT NOT NULL,\n",
    "  drugb INT NOT NULL,\n",
    "  weight INT NOT NULL,\n",
    "  PRIMARY KEY(druga, drugb)\n",
    ") AS SELECT\n",
    "    druga,\n",
    "    drugb,\n",
    "    weight\n",
    "FROM CSVREAD('../data/drug-interaction.csv');"
   ]
  },
  {
   "cell_type": "code",
   "execution_count": 5,
   "metadata": {},
   "outputs": [
    {
     "data": {
      "application/vnd.jupyter.widget-view+json": {
       "model_id": "ec762664-0657-46a0-9190-dc62510b9953",
       "version_major": 2,
       "version_minor": 0
      },
      "method": "display_data"
     },
     "metadata": {},
     "output_type": "display_data"
    }
   ],
   "source": [
    "DROP VIEW DrugInteraction30 IF EXISTS;\n",
    "CREATE VIEW DrugInteraction30 AS SELECT * FROM DrugInteraction WHERE weight > 30 ORDER BY druga, drugb;\n",
    "SELECT * FROM DrugInteraction30;"
   ]
  },
  {
   "cell_type": "markdown",
   "metadata": {},
   "source": [
    "# Suporte\n",
    "\n",
    "### Qual o suporte que cada uma das associações tem?\n",
    "\n",
    "Gere uma consulta que apresente o suporte do **grupo mais 30**. Ordene o resultado por ordem de suporte. \n",
    "\n",
    "Observação: Para que o resultado da divisão seja fracionária, converta o numerador em `DOUBLE` usando:\n",
    "~~~sql\n",
    "CAST(campo AS DOUBLE)\n",
    "~~~"
   ]
  },
  {
   "cell_type": "code",
   "execution_count": 6,
   "metadata": {},
   "outputs": [
    {
     "data": {
      "application/vnd.jupyter.widget-view+json": {
       "model_id": "ed79c57b-2d9f-45ba-98bd-72ea7d5e5c56",
       "version_major": 2,
       "version_minor": 0
      },
      "method": "display_data"
     },
     "metadata": {},
     "output_type": "display_data"
    }
   ],
   "source": [
    "SELECT druga, drugb, weight, CAST(weight AS DOUBLE)/(SELECT count(*) FROM DrugInteraction) as suporte\n",
    "FROM DrugInteraction30\n",
    "ORDER By suporte"
   ]
  },
  {
   "cell_type": "markdown",
   "metadata": {},
   "source": [
    "# Confiança\n",
    "\n",
    "### Qual a confiança que cada uma das associações tem?\n",
    "\n",
    "Gere uma consulta que apresente a confiança do **grupo mais 30**. Ordene o resultado por ordem de confiança."
   ]
  },
  {
   "cell_type": "code",
   "execution_count": 7,
   "metadata": {},
   "outputs": [
    {
     "data": {
      "application/vnd.jupyter.widget-view+json": {
       "model_id": "be8c5597-493d-425f-b5c6-e0a93a21f93c",
       "version_major": 2,
       "version_minor": 0
      },
      "method": "display_data"
     },
     "metadata": {},
     "output_type": "display_data"
    }
   ],
   "source": [
    "SELECT DrugInteraction30.druga, CAST(count(*) AS DOUBLE)/(SELECT count(*) FROM DrugInteraction) as confianca\n",
    "FROM DrugInteraction,DrugInteraction30\n",
    "WHERE DrugInteraction.druga = DrugInteraction30.druga\n",
    "GROUP BY DrugInteraction.druga\n",
    "ORDER BY confianca"
   ]
  },
  {
   "cell_type": "markdown",
   "metadata": {},
   "source": [
    "# Efeito Colateral\n",
    "\n",
    "Para cada medicamento, qual o percentual do medicamento A que tem efeito colateral junto com o medicamento B, quando comparado com seu uso sem o medicamento B."
   ]
  },
  {
   "cell_type": "code",
   "execution_count": 42,
   "metadata": {},
   "outputs": [],
   "source": [
    "DROP VIEW CombinedSideEffectFrequency IF EXISTS;\n",
    "DROP VIEW NumberOfSideEffectsByDrugCombination IF EXISTS;\n",
    "DROP VIEW NumberOfUsesByDrugCombination IF EXISTS;\n",
    "DROP VIEW AloneSideEffectFrequency IF EXISTS;\n",
    "DROP VIEW NumberOfSideEffectsByDrug IF EXISTS;\n",
    "DROP VIEW NumberOfUsesByDrug IF EXISTS;\n",
    "DROP VIEW DrugIntersection IF EXISTS;\n",
    "DROP VIEW DrugAlone IF EXISTS;\n",
    "DROP VIEW DrugsPerPerson IF EXISTS;\n",
    "DROP VIEW ReducedDrugUse IF EXISTS;\n",
    "\n",
    "CREATE VIEW ReducedDrugUse AS\n",
    "SELECT *\n",
    "FROM DrugUse\n",
    "ORDER BY idPerson\n",
    "LIMIT 300;\n",
    "\n",
    "CREATE VIEW DrugsPerPerson AS\n",
    "SELECT idPerson,count(codeDrug) as drugCount\n",
    "FROM ReducedDrugUse\n",
    "GROUP BY idPerson;\n",
    "\n",
    "CREATE VIEW DrugAlone AS\n",
    "SELECT ReducedDrugUse.idPerson, ReducedDrugUse.codeDrug\n",
    "FROM ReducedDrugUse, DrugsPerPerson\n",
    "WHERE ReducedDrugUse.idPerson = DrugsPerPerson.idPerson AND DrugsPerPerson.drugCount = 1;\n",
    "\n",
    "CREATE VIEW DrugIntersection AS\n",
    "SELECT Du1.idPerson, Du1.codeDrug as druga, Du2.codeDrug AS drugb\n",
    "FROM ReducedDrugUse AS DU1, ReducedDrugUse AS DU2\n",
    "WHERE DU1.idPerson = DU2.idPerson AND Du1.codeDrug <> Du2.codeDrug AND DU1.codeDrug < DU2.codeDrug"
   ]
  },
  {
   "cell_type": "code",
   "execution_count": 43,
   "metadata": {},
   "outputs": [],
   "source": [
    "CREATE VIEW NumberOfSideEffectsByDrug AS\n",
    "SELECT codeDrug,count(codeDrug) as sideeffects\n",
    "FROM DrugAlone, SideEffect\n",
    "WHERE DrugAlone.idPerson = SideEffect.idPerson\n",
    "GROUP BY DrugAlone.codeDrug;\n",
    "\n",
    "CREATE VIEW NumberOfUsesByDrug AS\n",
    "SELECT codeDrug,count(DrugAlone.codeDrug) as uses\n",
    "FROM DrugAlone\n",
    "GROUP BY codeDrug;\n",
    "\n",
    "CREATE VIEW AloneSideEffectFrequency AS\n",
    "SELECT NumberOfUsesByDrug.codeDrug, CAST(NumberOfUsesByDrug.uses as DOUBLE)/ NumberOfSideEffectsByDrug.sideeffects as sideeffectfreq\n",
    "FROM NumberOfSideEffectsByDrug,NumberOfUsesByDrug\n",
    "WHERE NumberOfUsesByDrug.codeDrug = NumberOfSideEffectsByDrug.codeDrug"
   ]
  },
  {
   "cell_type": "code",
   "execution_count": 44,
   "metadata": {},
   "outputs": [],
   "source": [
    "CREATE VIEW NumberOfSideEffectsByDrugCombination AS\n",
    "SELECT druga,drugb,count(*) as sideeffects\n",
    "FROM DrugIntersection, SideEffect\n",
    "WHERE DrugIntersection.idPerson = SideEffect.idPerson\n",
    "GROUP BY druga,drugb;\n",
    "\n",
    "\n",
    "CREATE VIEW NumberOfUsesByDrugCombination AS\n",
    "SELECT druga,drugb,count(*) as uses\n",
    "FROM DrugIntersection\n",
    "GROUP BY druga,drugb;\n",
    "\n",
    "CREATE VIEW CombinedSideEffectFrequency AS\n",
    "SELECT SideComb.druga, SideComb.drugb, CAST(NUses.uses AS DOUBLE)/SideComb.sideeffects as sideeffectfreq\n",
    "FROM NumberOfSideEffectsByDrugCombination AS SideComb, NumberOfUsesByDrugCombination as NUses\n",
    "WHERE SideComb.druga = NUses.druga and SideComb.drugb = NUSes.drugb"
   ]
  },
  {
   "cell_type": "code",
   "execution_count": 47,
   "metadata": {},
   "outputs": [
    {
     "data": {
      "application/vnd.jupyter.widget-view+json": {
       "model_id": "bf46285c-22d7-4752-a52c-be313f5f0f59",
       "version_major": 2,
       "version_minor": 0
      },
      "method": "display_data"
     },
     "metadata": {},
     "output_type": "display_data"
    }
   ],
   "source": [
    "SELECT Comb.druga, Comb.drugb, Comb.sideeffectfreq/Alone.sideeffectfreq\n",
    "FROM CombinedSideEffectFrequency as Comb, AloneSideEffectFrequency as Alone\n",
    "WHERE Comb.druga = Alone.codeDrug;"
   ]
  },
  {
   "cell_type": "code",
   "execution_count": null,
   "metadata": {},
   "outputs": [],
   "source": []
  }
 ],
 "metadata": {
  "kernelspec": {
   "display_name": "SQL",
   "language": "SQL",
   "name": "sql"
  },
  "language_info": {
   "codemirror_mode": "sql",
   "file_extension": ".sql",
   "mimetype": "",
   "name": "SQL",
   "nbconverter_exporter": "",
   "version": ""
  },
  "toc": {
   "base_numbering": 1,
   "nav_menu": {},
   "number_sections": false,
   "sideBar": false,
   "skip_h1_title": false,
   "title_cell": "Table of Contents",
   "title_sidebar": "Contents",
   "toc_cell": false,
   "toc_position": {},
   "toc_section_display": false,
   "toc_window_display": false
  }
 },
 "nbformat": 4,
 "nbformat_minor": 2
}
